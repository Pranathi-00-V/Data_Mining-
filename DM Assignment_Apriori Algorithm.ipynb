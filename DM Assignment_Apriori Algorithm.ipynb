{
 "cells": [
  {
   "cell_type": "code",
   "execution_count": 17,
   "metadata": {},
   "outputs": [],
   "source": [
    "#Import necessary libraries\n",
    "import numpy as np\n",
    "import matplotlib.pyplot as plt\n",
    "import pandas as pd\n",
    "from apyori import apriori"
   ]
  },
  {
   "cell_type": "code",
   "execution_count": 21,
   "metadata": {},
   "outputs": [
    {
     "name": "stdout",
     "output_type": "stream",
     "text": [
      "Requirement already satisfied: apyori in e:\\python\\lib\\site-packages (1.1.2)\n",
      "Note: you may need to restart the kernel to use updated packages.\n"
     ]
    }
   ],
   "source": [
    "pip install apyori"
   ]
  },
  {
   "cell_type": "code",
   "execution_count": 18,
   "metadata": {},
   "outputs": [],
   "source": [
    "#Read the dataset\n",
    "data = pd.read_csv('F:\\\\dataset.csv',header=None)"
   ]
  },
  {
   "cell_type": "code",
   "execution_count": 19,
   "metadata": {},
   "outputs": [
    {
     "data": {
      "text/html": [
       "<div>\n",
       "<style scoped>\n",
       "    .dataframe tbody tr th:only-of-type {\n",
       "        vertical-align: middle;\n",
       "    }\n",
       "\n",
       "    .dataframe tbody tr th {\n",
       "        vertical-align: top;\n",
       "    }\n",
       "\n",
       "    .dataframe thead th {\n",
       "        text-align: right;\n",
       "    }\n",
       "</style>\n",
       "<table border=\"1\" class=\"dataframe\">\n",
       "  <thead>\n",
       "    <tr style=\"text-align: right;\">\n",
       "      <th></th>\n",
       "      <th>0</th>\n",
       "      <th>1</th>\n",
       "      <th>2</th>\n",
       "      <th>3</th>\n",
       "      <th>4</th>\n",
       "      <th>5</th>\n",
       "    </tr>\n",
       "  </thead>\n",
       "  <tbody>\n",
       "    <tr>\n",
       "      <th>0</th>\n",
       "      <td>Milk</td>\n",
       "      <td>Eggs</td>\n",
       "      <td>Cola</td>\n",
       "      <td>NaN</td>\n",
       "      <td>NaN</td>\n",
       "      <td>NaN</td>\n",
       "    </tr>\n",
       "    <tr>\n",
       "      <th>1</th>\n",
       "      <td>Milk</td>\n",
       "      <td>NaN</td>\n",
       "      <td>NaN</td>\n",
       "      <td>Bread</td>\n",
       "      <td>Butter</td>\n",
       "      <td>NaN</td>\n",
       "    </tr>\n",
       "    <tr>\n",
       "      <th>2</th>\n",
       "      <td>Milk</td>\n",
       "      <td>NaN</td>\n",
       "      <td>Cola</td>\n",
       "      <td>NaN</td>\n",
       "      <td>NaN</td>\n",
       "      <td>Cookies</td>\n",
       "    </tr>\n",
       "    <tr>\n",
       "      <th>3</th>\n",
       "      <td>NaN</td>\n",
       "      <td>NaN</td>\n",
       "      <td>NaN</td>\n",
       "      <td>Bread</td>\n",
       "      <td>Butter</td>\n",
       "      <td>Cookies</td>\n",
       "    </tr>\n",
       "    <tr>\n",
       "      <th>4</th>\n",
       "      <td>NaN</td>\n",
       "      <td>Eggs</td>\n",
       "      <td>Cola</td>\n",
       "      <td>NaN</td>\n",
       "      <td>NaN</td>\n",
       "      <td>Cookies</td>\n",
       "    </tr>\n",
       "  </tbody>\n",
       "</table>\n",
       "</div>"
      ],
      "text/plain": [
       "      0     1     2      3       4        5\n",
       "0  Milk  Eggs  Cola    NaN     NaN      NaN\n",
       "1  Milk   NaN   NaN  Bread  Butter      NaN\n",
       "2  Milk   NaN  Cola    NaN     NaN  Cookies\n",
       "3   NaN   NaN   NaN  Bread  Butter  Cookies\n",
       "4   NaN  Eggs  Cola    NaN     NaN  Cookies"
      ]
     },
     "execution_count": 19,
     "metadata": {},
     "output_type": "execute_result"
    }
   ],
   "source": [
    "#Display head of dataset\n",
    "data.head()"
   ]
  },
  {
   "cell_type": "code",
   "execution_count": 20,
   "metadata": {},
   "outputs": [
    {
     "name": "stdout",
     "output_type": "stream",
     "text": [
      "10 6\n"
     ]
    }
   ],
   "source": [
    "#Displaying number of rows and columns in dataset\n",
    "x,y = data.shape\n",
    "print(x,y)"
   ]
  },
  {
   "cell_type": "code",
   "execution_count": 21,
   "metadata": {
    "scrolled": true
   },
   "outputs": [
    {
     "data": {
      "text/plain": [
       "[['Milk', 'Eggs', 'Cola'],\n",
       " ['Milk', 'Bread', 'Butter'],\n",
       " ['Milk', 'Cola', 'Cookies'],\n",
       " ['Bread', 'Butter', 'Cookies'],\n",
       " ['Eggs', 'Cola', 'Cookies'],\n",
       " ['Milk', 'Cola', 'Bread', 'Butter'],\n",
       " ['Cola', 'Bread', 'Butter'],\n",
       " ['Eggs', 'Cola'],\n",
       " ['Milk', 'Cola', 'Bread', 'Butter'],\n",
       " ['Eggs', 'Cookies']]"
      ]
     },
     "execution_count": 21,
     "metadata": {},
     "output_type": "execute_result"
    }
   ],
   "source": [
    "#Storing each transaction as a individual list\n",
    "records=[]\n",
    "for i in range(0,x):\n",
    "    records.append([str(data.values[i,j]) for j in range(0,y) if pd.isnull(data.values[i,j]) is False ])\n",
    "records"
   ]
  },
  {
   "cell_type": "code",
   "execution_count": 25,
   "metadata": {},
   "outputs": [
    {
     "name": "stdout",
     "output_type": "stream",
     "text": [
      "Enter minimum support for rules\n",
      "0.5\n"
     ]
    }
   ],
   "source": [
    "#Entering minimum support value\n",
    "print(\"Enter minimum support for rules\")\n",
    "minimium_support_val=float(input())"
   ]
  },
  {
   "cell_type": "code",
   "execution_count": 26,
   "metadata": {},
   "outputs": [
    {
     "data": {
      "text/plain": [
       "[RelationRecord(items=frozenset({'Bread'}), support=0.5, ordered_statistics=[OrderedStatistic(items_base=frozenset(), items_add=frozenset({'Bread'}), confidence=0.5, lift=1.0)]),\n",
       " RelationRecord(items=frozenset({'Butter'}), support=0.5, ordered_statistics=[OrderedStatistic(items_base=frozenset(), items_add=frozenset({'Butter'}), confidence=0.5, lift=1.0)]),\n",
       " RelationRecord(items=frozenset({'Cola'}), support=0.7, ordered_statistics=[OrderedStatistic(items_base=frozenset(), items_add=frozenset({'Cola'}), confidence=0.7, lift=1.0)]),\n",
       " RelationRecord(items=frozenset({'Cookies'}), support=0.4, ordered_statistics=[OrderedStatistic(items_base=frozenset(), items_add=frozenset({'Cookies'}), confidence=0.4, lift=1.0)]),\n",
       " RelationRecord(items=frozenset({'Eggs'}), support=0.4, ordered_statistics=[OrderedStatistic(items_base=frozenset(), items_add=frozenset({'Eggs'}), confidence=0.4, lift=1.0)]),\n",
       " RelationRecord(items=frozenset({'Milk'}), support=0.5, ordered_statistics=[OrderedStatistic(items_base=frozenset(), items_add=frozenset({'Milk'}), confidence=0.5, lift=1.0)]),\n",
       " RelationRecord(items=frozenset({'Bread', 'Butter'}), support=0.5, ordered_statistics=[OrderedStatistic(items_base=frozenset(), items_add=frozenset({'Bread', 'Butter'}), confidence=0.5, lift=1.0), OrderedStatistic(items_base=frozenset({'Bread'}), items_add=frozenset({'Butter'}), confidence=1.0, lift=2.0), OrderedStatistic(items_base=frozenset({'Butter'}), items_add=frozenset({'Bread'}), confidence=1.0, lift=2.0)]),\n",
       " RelationRecord(items=frozenset({'Cola', 'Bread'}), support=0.3, ordered_statistics=[OrderedStatistic(items_base=frozenset(), items_add=frozenset({'Bread', 'Cola'}), confidence=0.3, lift=1.0), OrderedStatistic(items_base=frozenset({'Bread'}), items_add=frozenset({'Cola'}), confidence=0.6, lift=0.8571428571428572), OrderedStatistic(items_base=frozenset({'Cola'}), items_add=frozenset({'Bread'}), confidence=0.4285714285714286, lift=0.8571428571428572)]),\n",
       " RelationRecord(items=frozenset({'Cookies', 'Bread'}), support=0.1, ordered_statistics=[OrderedStatistic(items_base=frozenset(), items_add=frozenset({'Cookies', 'Bread'}), confidence=0.1, lift=1.0), OrderedStatistic(items_base=frozenset({'Bread'}), items_add=frozenset({'Cookies'}), confidence=0.2, lift=0.5), OrderedStatistic(items_base=frozenset({'Cookies'}), items_add=frozenset({'Bread'}), confidence=0.25, lift=0.5)]),\n",
       " RelationRecord(items=frozenset({'Milk', 'Bread'}), support=0.3, ordered_statistics=[OrderedStatistic(items_base=frozenset(), items_add=frozenset({'Milk', 'Bread'}), confidence=0.3, lift=1.0), OrderedStatistic(items_base=frozenset({'Bread'}), items_add=frozenset({'Milk'}), confidence=0.6, lift=1.2), OrderedStatistic(items_base=frozenset({'Milk'}), items_add=frozenset({'Bread'}), confidence=0.6, lift=1.2)]),\n",
       " RelationRecord(items=frozenset({'Cola', 'Butter'}), support=0.3, ordered_statistics=[OrderedStatistic(items_base=frozenset(), items_add=frozenset({'Cola', 'Butter'}), confidence=0.3, lift=1.0), OrderedStatistic(items_base=frozenset({'Butter'}), items_add=frozenset({'Cola'}), confidence=0.6, lift=0.8571428571428572), OrderedStatistic(items_base=frozenset({'Cola'}), items_add=frozenset({'Butter'}), confidence=0.4285714285714286, lift=0.8571428571428572)]),\n",
       " RelationRecord(items=frozenset({'Cookies', 'Butter'}), support=0.1, ordered_statistics=[OrderedStatistic(items_base=frozenset(), items_add=frozenset({'Cookies', 'Butter'}), confidence=0.1, lift=1.0), OrderedStatistic(items_base=frozenset({'Butter'}), items_add=frozenset({'Cookies'}), confidence=0.2, lift=0.5), OrderedStatistic(items_base=frozenset({'Cookies'}), items_add=frozenset({'Butter'}), confidence=0.25, lift=0.5)]),\n",
       " RelationRecord(items=frozenset({'Milk', 'Butter'}), support=0.3, ordered_statistics=[OrderedStatistic(items_base=frozenset(), items_add=frozenset({'Milk', 'Butter'}), confidence=0.3, lift=1.0), OrderedStatistic(items_base=frozenset({'Butter'}), items_add=frozenset({'Milk'}), confidence=0.6, lift=1.2), OrderedStatistic(items_base=frozenset({'Milk'}), items_add=frozenset({'Butter'}), confidence=0.6, lift=1.2)]),\n",
       " RelationRecord(items=frozenset({'Cookies', 'Cola'}), support=0.2, ordered_statistics=[OrderedStatistic(items_base=frozenset(), items_add=frozenset({'Cookies', 'Cola'}), confidence=0.2, lift=1.0), OrderedStatistic(items_base=frozenset({'Cola'}), items_add=frozenset({'Cookies'}), confidence=0.28571428571428575, lift=0.7142857142857143), OrderedStatistic(items_base=frozenset({'Cookies'}), items_add=frozenset({'Cola'}), confidence=0.5, lift=0.7142857142857143)]),\n",
       " RelationRecord(items=frozenset({'Eggs', 'Cola'}), support=0.3, ordered_statistics=[OrderedStatistic(items_base=frozenset(), items_add=frozenset({'Eggs', 'Cola'}), confidence=0.3, lift=1.0), OrderedStatistic(items_base=frozenset({'Cola'}), items_add=frozenset({'Eggs'}), confidence=0.4285714285714286, lift=1.0714285714285714), OrderedStatistic(items_base=frozenset({'Eggs'}), items_add=frozenset({'Cola'}), confidence=0.7499999999999999, lift=1.0714285714285714)]),\n",
       " RelationRecord(items=frozenset({'Milk', 'Cola'}), support=0.4, ordered_statistics=[OrderedStatistic(items_base=frozenset(), items_add=frozenset({'Milk', 'Cola'}), confidence=0.4, lift=1.0), OrderedStatistic(items_base=frozenset({'Cola'}), items_add=frozenset({'Milk'}), confidence=0.5714285714285715, lift=1.142857142857143), OrderedStatistic(items_base=frozenset({'Milk'}), items_add=frozenset({'Cola'}), confidence=0.8, lift=1.142857142857143)]),\n",
       " RelationRecord(items=frozenset({'Cookies', 'Eggs'}), support=0.2, ordered_statistics=[OrderedStatistic(items_base=frozenset(), items_add=frozenset({'Cookies', 'Eggs'}), confidence=0.2, lift=1.0), OrderedStatistic(items_base=frozenset({'Cookies'}), items_add=frozenset({'Eggs'}), confidence=0.5, lift=1.25), OrderedStatistic(items_base=frozenset({'Eggs'}), items_add=frozenset({'Cookies'}), confidence=0.5, lift=1.25)]),\n",
       " RelationRecord(items=frozenset({'Cookies', 'Milk'}), support=0.1, ordered_statistics=[OrderedStatistic(items_base=frozenset(), items_add=frozenset({'Cookies', 'Milk'}), confidence=0.1, lift=1.0), OrderedStatistic(items_base=frozenset({'Cookies'}), items_add=frozenset({'Milk'}), confidence=0.25, lift=0.5), OrderedStatistic(items_base=frozenset({'Milk'}), items_add=frozenset({'Cookies'}), confidence=0.2, lift=0.5)]),\n",
       " RelationRecord(items=frozenset({'Milk', 'Eggs'}), support=0.1, ordered_statistics=[OrderedStatistic(items_base=frozenset(), items_add=frozenset({'Milk', 'Eggs'}), confidence=0.1, lift=1.0), OrderedStatistic(items_base=frozenset({'Eggs'}), items_add=frozenset({'Milk'}), confidence=0.25, lift=0.5), OrderedStatistic(items_base=frozenset({'Milk'}), items_add=frozenset({'Eggs'}), confidence=0.2, lift=0.5)]),\n",
       " RelationRecord(items=frozenset({'Cola', 'Bread', 'Butter'}), support=0.3, ordered_statistics=[OrderedStatistic(items_base=frozenset(), items_add=frozenset({'Bread', 'Cola', 'Butter'}), confidence=0.3, lift=1.0), OrderedStatistic(items_base=frozenset({'Bread'}), items_add=frozenset({'Cola', 'Butter'}), confidence=0.6, lift=2.0), OrderedStatistic(items_base=frozenset({'Butter'}), items_add=frozenset({'Bread', 'Cola'}), confidence=0.6, lift=2.0), OrderedStatistic(items_base=frozenset({'Cola'}), items_add=frozenset({'Bread', 'Butter'}), confidence=0.4285714285714286, lift=0.8571428571428572), OrderedStatistic(items_base=frozenset({'Bread', 'Butter'}), items_add=frozenset({'Cola'}), confidence=0.6, lift=0.8571428571428572), OrderedStatistic(items_base=frozenset({'Cola', 'Bread'}), items_add=frozenset({'Butter'}), confidence=1.0, lift=2.0), OrderedStatistic(items_base=frozenset({'Cola', 'Butter'}), items_add=frozenset({'Bread'}), confidence=1.0, lift=2.0)]),\n",
       " RelationRecord(items=frozenset({'Cookies', 'Bread', 'Butter'}), support=0.1, ordered_statistics=[OrderedStatistic(items_base=frozenset(), items_add=frozenset({'Cookies', 'Bread', 'Butter'}), confidence=0.1, lift=1.0), OrderedStatistic(items_base=frozenset({'Bread'}), items_add=frozenset({'Cookies', 'Butter'}), confidence=0.2, lift=2.0), OrderedStatistic(items_base=frozenset({'Butter'}), items_add=frozenset({'Cookies', 'Bread'}), confidence=0.2, lift=2.0), OrderedStatistic(items_base=frozenset({'Cookies'}), items_add=frozenset({'Bread', 'Butter'}), confidence=0.25, lift=0.5), OrderedStatistic(items_base=frozenset({'Bread', 'Butter'}), items_add=frozenset({'Cookies'}), confidence=0.2, lift=0.5), OrderedStatistic(items_base=frozenset({'Cookies', 'Bread'}), items_add=frozenset({'Butter'}), confidence=1.0, lift=2.0), OrderedStatistic(items_base=frozenset({'Cookies', 'Butter'}), items_add=frozenset({'Bread'}), confidence=1.0, lift=2.0)]),\n",
       " RelationRecord(items=frozenset({'Milk', 'Bread', 'Butter'}), support=0.3, ordered_statistics=[OrderedStatistic(items_base=frozenset(), items_add=frozenset({'Milk', 'Bread', 'Butter'}), confidence=0.3, lift=1.0), OrderedStatistic(items_base=frozenset({'Bread'}), items_add=frozenset({'Milk', 'Butter'}), confidence=0.6, lift=2.0), OrderedStatistic(items_base=frozenset({'Butter'}), items_add=frozenset({'Milk', 'Bread'}), confidence=0.6, lift=2.0), OrderedStatistic(items_base=frozenset({'Milk'}), items_add=frozenset({'Bread', 'Butter'}), confidence=0.6, lift=1.2), OrderedStatistic(items_base=frozenset({'Bread', 'Butter'}), items_add=frozenset({'Milk'}), confidence=0.6, lift=1.2), OrderedStatistic(items_base=frozenset({'Milk', 'Bread'}), items_add=frozenset({'Butter'}), confidence=1.0, lift=2.0), OrderedStatistic(items_base=frozenset({'Milk', 'Butter'}), items_add=frozenset({'Bread'}), confidence=1.0, lift=2.0)]),\n",
       " RelationRecord(items=frozenset({'Milk', 'Cola', 'Bread'}), support=0.2, ordered_statistics=[OrderedStatistic(items_base=frozenset(), items_add=frozenset({'Bread', 'Milk', 'Cola'}), confidence=0.2, lift=1.0), OrderedStatistic(items_base=frozenset({'Bread'}), items_add=frozenset({'Milk', 'Cola'}), confidence=0.4, lift=1.0), OrderedStatistic(items_base=frozenset({'Cola'}), items_add=frozenset({'Milk', 'Bread'}), confidence=0.28571428571428575, lift=0.9523809523809526), OrderedStatistic(items_base=frozenset({'Milk'}), items_add=frozenset({'Bread', 'Cola'}), confidence=0.4, lift=1.3333333333333335), OrderedStatistic(items_base=frozenset({'Cola', 'Bread'}), items_add=frozenset({'Milk'}), confidence=0.6666666666666667, lift=1.3333333333333335), OrderedStatistic(items_base=frozenset({'Milk', 'Bread'}), items_add=frozenset({'Cola'}), confidence=0.6666666666666667, lift=0.9523809523809526), OrderedStatistic(items_base=frozenset({'Milk', 'Cola'}), items_add=frozenset({'Bread'}), confidence=0.5, lift=1.0)]),\n",
       " RelationRecord(items=frozenset({'Milk', 'Cola', 'Butter'}), support=0.2, ordered_statistics=[OrderedStatistic(items_base=frozenset(), items_add=frozenset({'Milk', 'Cola', 'Butter'}), confidence=0.2, lift=1.0), OrderedStatistic(items_base=frozenset({'Butter'}), items_add=frozenset({'Milk', 'Cola'}), confidence=0.4, lift=1.0), OrderedStatistic(items_base=frozenset({'Cola'}), items_add=frozenset({'Milk', 'Butter'}), confidence=0.28571428571428575, lift=0.9523809523809526), OrderedStatistic(items_base=frozenset({'Milk'}), items_add=frozenset({'Cola', 'Butter'}), confidence=0.4, lift=1.3333333333333335), OrderedStatistic(items_base=frozenset({'Cola', 'Butter'}), items_add=frozenset({'Milk'}), confidence=0.6666666666666667, lift=1.3333333333333335), OrderedStatistic(items_base=frozenset({'Milk', 'Butter'}), items_add=frozenset({'Cola'}), confidence=0.6666666666666667, lift=0.9523809523809526), OrderedStatistic(items_base=frozenset({'Milk', 'Cola'}), items_add=frozenset({'Butter'}), confidence=0.5, lift=1.0)]),\n",
       " RelationRecord(items=frozenset({'Cookies', 'Eggs', 'Cola'}), support=0.1, ordered_statistics=[OrderedStatistic(items_base=frozenset(), items_add=frozenset({'Cookies', 'Eggs', 'Cola'}), confidence=0.1, lift=1.0), OrderedStatistic(items_base=frozenset({'Cola'}), items_add=frozenset({'Cookies', 'Eggs'}), confidence=0.14285714285714288, lift=0.7142857142857143), OrderedStatistic(items_base=frozenset({'Cookies'}), items_add=frozenset({'Eggs', 'Cola'}), confidence=0.25, lift=0.8333333333333334), OrderedStatistic(items_base=frozenset({'Eggs'}), items_add=frozenset({'Cookies', 'Cola'}), confidence=0.25, lift=1.25), OrderedStatistic(items_base=frozenset({'Cookies', 'Cola'}), items_add=frozenset({'Eggs'}), confidence=0.5, lift=1.25), OrderedStatistic(items_base=frozenset({'Eggs', 'Cola'}), items_add=frozenset({'Cookies'}), confidence=0.33333333333333337, lift=0.8333333333333334), OrderedStatistic(items_base=frozenset({'Cookies', 'Eggs'}), items_add=frozenset({'Cola'}), confidence=0.5, lift=0.7142857142857143)]),\n",
       " RelationRecord(items=frozenset({'Cookies', 'Cola', 'Milk'}), support=0.1, ordered_statistics=[OrderedStatistic(items_base=frozenset(), items_add=frozenset({'Cookies', 'Cola', 'Milk'}), confidence=0.1, lift=1.0), OrderedStatistic(items_base=frozenset({'Cola'}), items_add=frozenset({'Cookies', 'Milk'}), confidence=0.14285714285714288, lift=1.4285714285714286), OrderedStatistic(items_base=frozenset({'Cookies'}), items_add=frozenset({'Milk', 'Cola'}), confidence=0.25, lift=0.625), OrderedStatistic(items_base=frozenset({'Milk'}), items_add=frozenset({'Cookies', 'Cola'}), confidence=0.2, lift=1.0), OrderedStatistic(items_base=frozenset({'Cookies', 'Cola'}), items_add=frozenset({'Milk'}), confidence=0.5, lift=1.0), OrderedStatistic(items_base=frozenset({'Milk', 'Cola'}), items_add=frozenset({'Cookies'}), confidence=0.25, lift=0.625), OrderedStatistic(items_base=frozenset({'Cookies', 'Milk'}), items_add=frozenset({'Cola'}), confidence=1.0, lift=1.4285714285714286)]),\n",
       " RelationRecord(items=frozenset({'Milk', 'Eggs', 'Cola'}), support=0.1, ordered_statistics=[OrderedStatistic(items_base=frozenset(), items_add=frozenset({'Milk', 'Eggs', 'Cola'}), confidence=0.1, lift=1.0), OrderedStatistic(items_base=frozenset({'Cola'}), items_add=frozenset({'Milk', 'Eggs'}), confidence=0.14285714285714288, lift=1.4285714285714286), OrderedStatistic(items_base=frozenset({'Eggs'}), items_add=frozenset({'Milk', 'Cola'}), confidence=0.25, lift=0.625), OrderedStatistic(items_base=frozenset({'Milk'}), items_add=frozenset({'Eggs', 'Cola'}), confidence=0.2, lift=0.6666666666666667), OrderedStatistic(items_base=frozenset({'Eggs', 'Cola'}), items_add=frozenset({'Milk'}), confidence=0.33333333333333337, lift=0.6666666666666667), OrderedStatistic(items_base=frozenset({'Milk', 'Cola'}), items_add=frozenset({'Eggs'}), confidence=0.25, lift=0.625), OrderedStatistic(items_base=frozenset({'Milk', 'Eggs'}), items_add=frozenset({'Cola'}), confidence=1.0, lift=1.4285714285714286)]),\n",
       " RelationRecord(items=frozenset({'Milk', 'Cola', 'Bread', 'Butter'}), support=0.2, ordered_statistics=[OrderedStatistic(items_base=frozenset(), items_add=frozenset({'Milk', 'Cola', 'Bread', 'Butter'}), confidence=0.2, lift=1.0), OrderedStatistic(items_base=frozenset({'Bread'}), items_add=frozenset({'Milk', 'Cola', 'Butter'}), confidence=0.4, lift=2.0), OrderedStatistic(items_base=frozenset({'Butter'}), items_add=frozenset({'Bread', 'Milk', 'Cola'}), confidence=0.4, lift=2.0), OrderedStatistic(items_base=frozenset({'Cola'}), items_add=frozenset({'Milk', 'Bread', 'Butter'}), confidence=0.28571428571428575, lift=0.9523809523809526), OrderedStatistic(items_base=frozenset({'Milk'}), items_add=frozenset({'Bread', 'Cola', 'Butter'}), confidence=0.4, lift=1.3333333333333335), OrderedStatistic(items_base=frozenset({'Bread', 'Butter'}), items_add=frozenset({'Milk', 'Cola'}), confidence=0.4, lift=1.0), OrderedStatistic(items_base=frozenset({'Cola', 'Bread'}), items_add=frozenset({'Milk', 'Butter'}), confidence=0.6666666666666667, lift=2.2222222222222228), OrderedStatistic(items_base=frozenset({'Milk', 'Bread'}), items_add=frozenset({'Cola', 'Butter'}), confidence=0.6666666666666667, lift=2.2222222222222228), OrderedStatistic(items_base=frozenset({'Cola', 'Butter'}), items_add=frozenset({'Milk', 'Bread'}), confidence=0.6666666666666667, lift=2.2222222222222228), OrderedStatistic(items_base=frozenset({'Milk', 'Butter'}), items_add=frozenset({'Bread', 'Cola'}), confidence=0.6666666666666667, lift=2.2222222222222228), OrderedStatistic(items_base=frozenset({'Milk', 'Cola'}), items_add=frozenset({'Bread', 'Butter'}), confidence=0.5, lift=1.0), OrderedStatistic(items_base=frozenset({'Cola', 'Bread', 'Butter'}), items_add=frozenset({'Milk'}), confidence=0.6666666666666667, lift=1.3333333333333335), OrderedStatistic(items_base=frozenset({'Milk', 'Bread', 'Butter'}), items_add=frozenset({'Cola'}), confidence=0.6666666666666667, lift=0.9523809523809526), OrderedStatistic(items_base=frozenset({'Milk', 'Cola', 'Bread'}), items_add=frozenset({'Butter'}), confidence=1.0, lift=2.0), OrderedStatistic(items_base=frozenset({'Milk', 'Cola', 'Butter'}), items_add=frozenset({'Bread'}), confidence=1.0, lift=2.0)])]"
      ]
     },
     "execution_count": 26,
     "metadata": {},
     "output_type": "execute_result"
    }
   ],
   "source": [
    "#generating association rules \n",
    "association_rules=apriori(records,min_supprt=minimium_support_val)\n",
    "association_result=list(association_rules)\n",
    "association_result"
   ]
  },
  {
   "cell_type": "code",
   "execution_count": 27,
   "metadata": {},
   "outputs": [
    {
     "name": "stdout",
     "output_type": "stream",
     "text": [
      "RelationRecord(items=frozenset({'Bread'}), support=0.5, ordered_statistics=[OrderedStatistic(items_base=frozenset(), items_add=frozenset({'Bread'}), confidence=0.5, lift=1.0)])\n"
     ]
    }
   ],
   "source": [
    "print(association_result[0])"
   ]
  },
  {
   "cell_type": "code",
   "execution_count": 28,
   "metadata": {},
   "outputs": [
    {
     "name": "stdout",
     "output_type": "stream",
     "text": [
      "['Bread']\n",
      "Support: 0.5\n",
      "\n",
      "\n",
      "['Butter']\n",
      "Support: 0.5\n",
      "\n",
      "\n",
      "['Cola']\n",
      "Support: 0.7\n",
      "\n",
      "\n",
      "['Milk']\n",
      "Support: 0.5\n",
      "\n",
      "\n",
      "['Bread', 'Butter']\n",
      "Support: 0.5\n",
      "\n",
      "\n"
     ]
    }
   ],
   "source": [
    "#Display rules and support which are greater than or equal to the minimum support value entered.\n",
    "for item in association_result:\n",
    "    if(item[1]>=minimium_support_val):\n",
    "        # first index of the inner list\n",
    "        # Contains base item and add item\n",
    "        pair = item[0] \n",
    "        items = [x for x in pair]\n",
    "        print(items)\n",
    "\n",
    "        #second index of the inner list\n",
    "        print(\"Support: \" + str(item[1]))\n",
    "\n",
    "        print(\"\\n\")"
   ]
  },
  {
   "cell_type": "code",
   "execution_count": null,
   "metadata": {},
   "outputs": [],
   "source": []
  }
 ],
 "metadata": {
  "kernelspec": {
   "display_name": "Python 3",
   "language": "python",
   "name": "python3"
  },
  "language_info": {
   "codemirror_mode": {
    "name": "ipython",
    "version": 3
   },
   "file_extension": ".py",
   "mimetype": "text/x-python",
   "name": "python",
   "nbconvert_exporter": "python",
   "pygments_lexer": "ipython3",
   "version": "3.8.3"
  }
 },
 "nbformat": 4,
 "nbformat_minor": 4
}
